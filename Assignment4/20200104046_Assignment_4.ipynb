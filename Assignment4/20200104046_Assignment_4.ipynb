{
  "nbformat": 4,
  "nbformat_minor": 0,
  "metadata": {
    "colab": {
      "provenance": []
    },
    "kernelspec": {
      "name": "python3",
      "display_name": "Python 3"
    },
    "language_info": {
      "name": "python"
    }
  },
  "cells": [
    {
      "cell_type": "code",
      "source": [
        "!pip install pyspark\n",
        "!pip install graphframes"
      ],
      "metadata": {
        "colab": {
          "base_uri": "https://localhost:8080/"
        },
        "id": "VuFKJDH7w51x",
        "outputId": "ba111f2c-1c68-4a37-96a6-36b3bd434b86"
      },
      "execution_count": 8,
      "outputs": [
        {
          "output_type": "stream",
          "name": "stdout",
          "text": [
            "Requirement already satisfied: pyspark in /usr/local/lib/python3.10/dist-packages (3.5.1)\n",
            "Requirement already satisfied: py4j==0.10.9.7 in /usr/local/lib/python3.10/dist-packages (from pyspark) (0.10.9.7)\n",
            "Requirement already satisfied: graphframes in /usr/local/lib/python3.10/dist-packages (0.6)\n",
            "Requirement already satisfied: numpy in /usr/local/lib/python3.10/dist-packages (from graphframes) (1.25.2)\n",
            "Requirement already satisfied: nose in /usr/local/lib/python3.10/dist-packages (from graphframes) (1.3.7)\n"
          ]
        }
      ]
    },
    {
      "cell_type": "code",
      "execution_count": 9,
      "metadata": {
        "id": "mCTOdSM5wDug"
      },
      "outputs": [],
      "source": [
        "from pyspark import SparkConf, SparkContext\n",
        "from pyspark.sql import SQLContext, SparkSession\n",
        "from graphframes import GraphFrame\n",
        "\n",
        "conf = SparkConf().setAppName('graph_processing').set('spark.jars.packages', 'graphframes:graphframes:0.8.1-spark3.0-s_2.12')\n",
        "sc = SparkContext(conf=conf)\n",
        "sqlContext = SQLContext(sc)\n",
        "spark = SparkSession(sc)\n"
      ]
    },
    {
      "cell_type": "code",
      "source": [
        "user_data = spark.read.csv('/content/user.txt', header=True, inferSchema=True)\n",
        "relationship_data = spark.read.csv('/content/relationships.txt', header=True, inferSchema=True)"
      ],
      "metadata": {
        "id": "o_PjptFKw3oR"
      },
      "execution_count": 10,
      "outputs": []
    },
    {
      "cell_type": "markdown",
      "source": [
        "#1"
      ],
      "metadata": {
        "id": "IpbypkDDxmA4"
      }
    },
    {
      "cell_type": "code",
      "source": [
        "vertices = user_data.withColumnRenamed('id', 'id').withColumnRenamed('name', 'name')\n",
        "edges = relationship_data.withColumnRenamed('src', 'src').withColumnRenamed('dst', 'dst').withColumnRenamed('relationship', 'relationship')\n",
        "\n",
        "g = GraphFrame(vertices, edges)\n",
        "\n",
        "vertices.show()\n",
        "edges.show()\n",
        "\n",
        "triangles = g.find(\"(a)-[e1]->(b); (b)-[e2]->(c); (c)-[e3]->(a)\").dropDuplicates()\n",
        "\n",
        "triangles.show(truncate=False)\n"
      ],
      "metadata": {
        "colab": {
          "base_uri": "https://localhost:8080/"
        },
        "id": "dbOdJ4EPxSiW",
        "outputId": "10640a9f-6db3-4070-95f5-67b10df9436a"
      },
      "execution_count": 11,
      "outputs": [
        {
          "output_type": "stream",
          "name": "stdout",
          "text": [
            "+---+-----+\n",
            "| id| name|\n",
            "+---+-----+\n",
            "|  1| John|\n",
            "|  2| Mary|\n",
            "|  3|Steve|\n",
            "|  4|Karen|\n",
            "|  5| Paul|\n",
            "|  6|Alice|\n",
            "|  7|  Bob|\n",
            "|  8|  Eve|\n",
            "|  9| Mike|\n",
            "+---+-----+\n",
            "\n",
            "+---+---+------------+\n",
            "|src|dst|relationship|\n",
            "+---+---+------------+\n",
            "|  1|  2|     friends|\n",
            "|  2|  3|     friends|\n",
            "|  3|  4|     friends|\n",
            "|  4|  5|     friends|\n",
            "|  5|  1|     friends|\n",
            "|  1|  6|     friends|\n",
            "|  6|  7|     friends|\n",
            "|  7|  8|     friends|\n",
            "|  8|  1|     friends|\n",
            "|  9|  6|     friends|\n",
            "|  1|  3|     follows|\n",
            "|  2|  4|     follows|\n",
            "|  3|  5|     follows|\n",
            "|  4|  1|     follows|\n",
            "|  3|  1|     follows|\n",
            "|  5|  2|     follows|\n",
            "|  5|  1|     follows|\n",
            "|  6|  8|     follows|\n",
            "|  7|  9|     follows|\n",
            "|  8|  1|     follows|\n",
            "+---+---+------------+\n",
            "only showing top 20 rows\n",
            "\n",
            "+----------+---------------+----------+---------------+----------+---------------+\n",
            "|a         |e1             |b         |e2             |c         |e3             |\n",
            "+----------+---------------+----------+---------------+----------+---------------+\n",
            "|{5, Paul} |{5, 1, friends}|{1, John} |{1, 3, follows}|{3, Steve}|{3, 5, follows}|\n",
            "|{5, Paul} |{5, 1, follows}|{1, John} |{1, 3, follows}|{3, Steve}|{3, 5, follows}|\n",
            "|{9, Mike} |{9, 6, friends}|{6, Alice}|{6, 7, friends}|{7, Bob}  |{7, 9, follows}|\n",
            "|{3, Steve}|{3, 5, follows}|{5, Paul} |{5, 2, follows}|{2, Mary} |{2, 3, friends}|\n",
            "|{6, Alice}|{6, 8, follows}|{8, Eve}  |{8, 1, follows}|{1, John} |{1, 6, friends}|\n",
            "|{2, Mary} |{2, 4, follows}|{4, Karen}|{4, 5, friends}|{5, Paul} |{5, 2, follows}|\n",
            "|{2, Mary} |{2, 3, friends}|{3, Steve}|{3, 1, follows}|{1, John} |{1, 2, friends}|\n",
            "|{8, Eve}  |{8, 1, follows}|{1, John} |{1, 6, friends}|{6, Alice}|{6, 8, follows}|\n",
            "|{3, Steve}|{3, 5, follows}|{5, Paul} |{5, 1, follows}|{1, John} |{1, 3, follows}|\n",
            "|{6, Alice}|{6, 7, friends}|{7, Bob}  |{7, 9, follows}|{9, Mike} |{9, 6, friends}|\n",
            "|{1, John} |{1, 6, friends}|{6, Alice}|{6, 8, follows}|{8, Eve}  |{8, 1, friends}|\n",
            "|{1, John} |{1, 3, follows}|{3, Steve}|{3, 4, friends}|{4, Karen}|{4, 1, follows}|\n",
            "|{7, Bob}  |{7, 9, follows}|{9, Mike} |{9, 6, friends}|{6, Alice}|{6, 7, friends}|\n",
            "|{1, John} |{1, 3, follows}|{3, Steve}|{3, 5, follows}|{5, Paul} |{5, 1, friends}|\n",
            "|{1, John} |{1, 2, friends}|{2, Mary} |{2, 3, friends}|{3, Steve}|{3, 1, follows}|\n",
            "|{1, John} |{1, 6, friends}|{6, Alice}|{6, 8, follows}|{8, Eve}  |{8, 1, follows}|\n",
            "|{8, Eve}  |{8, 1, friends}|{1, John} |{1, 6, friends}|{6, Alice}|{6, 8, follows}|\n",
            "|{3, Steve}|{3, 4, friends}|{4, Karen}|{4, 1, follows}|{1, John} |{1, 3, follows}|\n",
            "|{3, Steve}|{3, 1, follows}|{1, John} |{1, 2, friends}|{2, Mary} |{2, 3, friends}|\n",
            "|{3, Steve}|{3, 5, follows}|{5, Paul} |{5, 1, friends}|{1, John} |{1, 3, follows}|\n",
            "+----------+---------------+----------+---------------+----------+---------------+\n",
            "only showing top 20 rows\n",
            "\n"
          ]
        }
      ]
    },
    {
      "cell_type": "markdown",
      "source": [
        "#2"
      ],
      "metadata": {
        "id": "I6OkEVrLyMcS"
      }
    },
    {
      "cell_type": "code",
      "source": [
        "chain_patterns = g.find(\"(a)-[e1]->(b); (b)-[e2]->(c)\")\\\n",
        "    .filter(\"e1.relationship = 'follows' and e2.relationship = 'follows'\")\\\n",
        "    .dropDuplicates()\n",
        "\n",
        "chain_patterns.show(truncate=False)\n"
      ],
      "metadata": {
        "colab": {
          "base_uri": "https://localhost:8080/"
        },
        "id": "QLhD49KSyLky",
        "outputId": "260959ef-5fcd-47df-8c98-55d19cb44561"
      },
      "execution_count": 12,
      "outputs": [
        {
          "output_type": "stream",
          "name": "stdout",
          "text": [
            "+----------+---------------+----------+---------------+----------+\n",
            "|a         |e1             |b         |e2             |c         |\n",
            "+----------+---------------+----------+---------------+----------+\n",
            "|{5, Paul} |{5, 1, follows}|{1, John} |{1, 3, follows}|{3, Steve}|\n",
            "|{9, Mike} |{9, 7, follows}|{7, Bob}  |{7, 9, follows}|{9, Mike} |\n",
            "|{4, Karen}|{4, 1, follows}|{1, John} |{1, 3, follows}|{3, Steve}|\n",
            "|{6, Alice}|{6, 8, follows}|{8, Eve}  |{8, 1, follows}|{1, John} |\n",
            "|{3, Steve}|{3, 1, follows}|{1, John} |{1, 3, follows}|{3, Steve}|\n",
            "|{1, John} |{1, 3, follows}|{3, Steve}|{3, 1, follows}|{1, John} |\n",
            "|{8, Eve}  |{8, 1, follows}|{1, John} |{1, 3, follows}|{3, Steve}|\n",
            "|{2, Mary} |{2, 4, follows}|{4, Karen}|{4, 1, follows}|{1, John} |\n",
            "|{3, Steve}|{3, 5, follows}|{5, Paul} |{5, 1, follows}|{1, John} |\n",
            "|{3, Steve}|{3, 5, follows}|{5, Paul} |{5, 2, follows}|{2, Mary} |\n",
            "|{7, Bob}  |{7, 9, follows}|{9, Mike} |{9, 7, follows}|{7, Bob}  |\n",
            "|{1, John} |{1, 3, follows}|{3, Steve}|{3, 5, follows}|{5, Paul} |\n",
            "|{5, Paul} |{5, 2, follows}|{2, Mary} |{2, 4, follows}|{4, Karen}|\n",
            "+----------+---------------+----------+---------------+----------+\n",
            "\n"
          ]
        }
      ]
    },
    {
      "cell_type": "markdown",
      "source": [
        "#3"
      ],
      "metadata": {
        "id": "UYxIvQ2G2gy0"
      }
    },
    {
      "cell_type": "code",
      "source": [
        "from pyspark.sql.functions import col\n",
        "\n",
        "follows_edges = edges.filter(col('relationship') == 'follows')\n",
        "\n",
        "one_way_follow = follows_edges.alias('e1').join(\n",
        "    follows_edges.alias('e2'),\n",
        "    (col('e1.src') == col('e2.dst')) & (col('e1.dst') == col('e2.src')) & (col('e2.relationship') == 'follows'),\n",
        "    'left_anti'\n",
        ").select('e1.src', 'e1.dst', 'e1.relationship')\n",
        "\n",
        "one_way_follow.show(truncate=False)\n"
      ],
      "metadata": {
        "colab": {
          "base_uri": "https://localhost:8080/"
        },
        "id": "xOqXe-Ff10Ta",
        "outputId": "b604dcda-8576-4a01-9043-c27b26399d58"
      },
      "execution_count": 25,
      "outputs": [
        {
          "output_type": "stream",
          "name": "stdout",
          "text": [
            "+---+---+------------+\n",
            "|src|dst|relationship|\n",
            "+---+---+------------+\n",
            "|2  |4  |follows     |\n",
            "|3  |5  |follows     |\n",
            "|4  |1  |follows     |\n",
            "|5  |2  |follows     |\n",
            "|5  |1  |follows     |\n",
            "|6  |8  |follows     |\n",
            "|8  |1  |follows     |\n",
            "+---+---+------------+\n",
            "\n"
          ]
        }
      ]
    },
    {
      "cell_type": "markdown",
      "source": [
        "#4"
      ],
      "metadata": {
        "id": "bea_vUFe3YUD"
      }
    },
    {
      "cell_type": "code",
      "source": [
        "from pyspark.sql.functions import col, desc\n",
        "\n",
        "follows_edges = edges.filter(col('relationship') == 'follows')\n",
        "\n",
        "followers_count = follows_edges.groupBy('dst').count()\n",
        "\n",
        "max_followers = followers_count.agg({'count': 'max'}).collect()[0][0]\n",
        "\n",
        "users_with_max_followers = followers_count.filter(col('count') == max_followers)\n",
        "\n",
        "users_with_max_followers.show(truncate=False)"
      ],
      "metadata": {
        "colab": {
          "base_uri": "https://localhost:8080/"
        },
        "id": "cZHbK_u_3X3U",
        "outputId": "c3488e7a-41b1-4e05-b0a3-72eeba352ee9"
      },
      "execution_count": 26,
      "outputs": [
        {
          "output_type": "stream",
          "name": "stdout",
          "text": [
            "+---+-----+\n",
            "|dst|count|\n",
            "+---+-----+\n",
            "|1  |4    |\n",
            "+---+-----+\n",
            "\n"
          ]
        }
      ]
    },
    {
      "cell_type": "markdown",
      "source": [
        "#5"
      ],
      "metadata": {
        "id": "OoSU4VXA3e6G"
      }
    },
    {
      "cell_type": "code",
      "source": [
        "from pyspark.sql.functions import col\n",
        "\n",
        "friends_edges = edges.filter(col('relationship') == 'friends')\n",
        "\n",
        "friends_count_src = friends_edges.groupBy('src').count().withColumnRenamed('count', 'friends_count')\n",
        "friends_count_dst = friends_edges.groupBy('dst').count().withColumnRenamed('count', 'friends_count')\n",
        "\n",
        "friends_count = friends_count_src.union(friends_count_dst)\\\n",
        "    .groupBy('src').agg({'friends_count': 'sum'}).withColumnRenamed('sum(friends_count)', 'total_friends')\\\n",
        "    .withColumnRenamed('src', 'id')\n",
        "\n",
        "min_friends = friends_count.agg({'total_friends': 'min'}).collect()[0][0]\n",
        "\n",
        "users_with_min_friends = friends_count.filter(col('total_friends') == min_friends)\n",
        "\n",
        "users_with_min_friends.show(truncate=False)\n"
      ],
      "metadata": {
        "colab": {
          "base_uri": "https://localhost:8080/"
        },
        "id": "skScBGxs3eoc",
        "outputId": "f6cc4538-08f7-4f0a-ce1a-fc9f2f6db79d"
      },
      "execution_count": 27,
      "outputs": [
        {
          "output_type": "stream",
          "name": "stdout",
          "text": [
            "+---+-------------+\n",
            "|id |total_friends|\n",
            "+---+-------------+\n",
            "|9  |1            |\n",
            "+---+-------------+\n",
            "\n"
          ]
        }
      ]
    },
    {
      "cell_type": "markdown",
      "source": [
        "#6"
      ],
      "metadata": {
        "id": "4P8ftdsX3iBy"
      }
    },
    {
      "cell_type": "code",
      "source": [
        "result = g.labelPropagation(maxIter=5)\n",
        "\n",
        "result.select('id', 'label').show(truncate=False)"
      ],
      "metadata": {
        "colab": {
          "base_uri": "https://localhost:8080/"
        },
        "id": "fb_9gebm3hnl",
        "outputId": "737b66f7-34a7-4e95-e3bb-275beed1cda9"
      },
      "execution_count": 28,
      "outputs": [
        {
          "output_type": "stream",
          "name": "stdout",
          "text": [
            "+---+-----+\n",
            "|id |label|\n",
            "+---+-----+\n",
            "|4  |8    |\n",
            "|1  |8    |\n",
            "|6  |8    |\n",
            "|3  |8    |\n",
            "|7  |8    |\n",
            "|9  |7    |\n",
            "|8  |1    |\n",
            "|5  |8    |\n",
            "|2  |8    |\n",
            "+---+-----+\n",
            "\n"
          ]
        }
      ]
    }
  ]
}